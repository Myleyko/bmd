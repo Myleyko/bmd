{
 "cells": [
  {
   "cell_type": "code",
   "execution_count": 38,
   "metadata": {},
   "outputs": [],
   "source": [
    "import numpy as np\n",
    "import pandas as pd\n",
    "import scipy.stats as ss\n",
    "import seaborn as sns\n",
    "import math\n",
    "import matplotlib.pyplot as plt\n",
    "from numpy.random import randint"
   ]
  },
  {
   "cell_type": "code",
   "execution_count": 39,
   "metadata": {},
   "outputs": [
    {
     "data": {
      "text/html": [
       "<div>\n",
       "<style scoped>\n",
       "    .dataframe tbody tr th:only-of-type {\n",
       "        vertical-align: middle;\n",
       "    }\n",
       "\n",
       "    .dataframe tbody tr th {\n",
       "        vertical-align: top;\n",
       "    }\n",
       "\n",
       "    .dataframe thead th {\n",
       "        text-align: right;\n",
       "    }\n",
       "</style>\n",
       "<table border=\"1\" class=\"dataframe\">\n",
       "  <thead>\n",
       "    <tr style=\"text-align: right;\">\n",
       "      <th>Кількість спалахив за травень</th>\n",
       "      <th>Сонце</th>\n",
       "      <th>Альфа Центавра</th>\n",
       "    </tr>\n",
       "    <tr>\n",
       "      <th>Дата</th>\n",
       "      <th></th>\n",
       "      <th></th>\n",
       "    </tr>\n",
       "  </thead>\n",
       "  <tbody>\n",
       "    <tr>\n",
       "      <th>1</th>\n",
       "      <td>43</td>\n",
       "      <td>38</td>\n",
       "    </tr>\n",
       "    <tr>\n",
       "      <th>2</th>\n",
       "      <td>18</td>\n",
       "      <td>15</td>\n",
       "    </tr>\n",
       "    <tr>\n",
       "      <th>3</th>\n",
       "      <td>32</td>\n",
       "      <td>31</td>\n",
       "    </tr>\n",
       "    <tr>\n",
       "      <th>4</th>\n",
       "      <td>47</td>\n",
       "      <td>24</td>\n",
       "    </tr>\n",
       "    <tr>\n",
       "      <th>5</th>\n",
       "      <td>24</td>\n",
       "      <td>26</td>\n",
       "    </tr>\n",
       "    <tr>\n",
       "      <th>6</th>\n",
       "      <td>11</td>\n",
       "      <td>13</td>\n",
       "    </tr>\n",
       "    <tr>\n",
       "      <th>7</th>\n",
       "      <td>46</td>\n",
       "      <td>16</td>\n",
       "    </tr>\n",
       "    <tr>\n",
       "      <th>8</th>\n",
       "      <td>45</td>\n",
       "      <td>27</td>\n",
       "    </tr>\n",
       "    <tr>\n",
       "      <th>9</th>\n",
       "      <td>45</td>\n",
       "      <td>2</td>\n",
       "    </tr>\n",
       "    <tr>\n",
       "      <th>10</th>\n",
       "      <td>6</td>\n",
       "      <td>11</td>\n",
       "    </tr>\n",
       "    <tr>\n",
       "      <th>11</th>\n",
       "      <td>42</td>\n",
       "      <td>4</td>\n",
       "    </tr>\n",
       "    <tr>\n",
       "      <th>12</th>\n",
       "      <td>7</td>\n",
       "      <td>11</td>\n",
       "    </tr>\n",
       "    <tr>\n",
       "      <th>13</th>\n",
       "      <td>6</td>\n",
       "      <td>18</td>\n",
       "    </tr>\n",
       "    <tr>\n",
       "      <th>14</th>\n",
       "      <td>9</td>\n",
       "      <td>32</td>\n",
       "    </tr>\n",
       "    <tr>\n",
       "      <th>15</th>\n",
       "      <td>22</td>\n",
       "      <td>42</td>\n",
       "    </tr>\n",
       "    <tr>\n",
       "      <th>16</th>\n",
       "      <td>2</td>\n",
       "      <td>31</td>\n",
       "    </tr>\n",
       "    <tr>\n",
       "      <th>17</th>\n",
       "      <td>10</td>\n",
       "      <td>24</td>\n",
       "    </tr>\n",
       "    <tr>\n",
       "      <th>18</th>\n",
       "      <td>38</td>\n",
       "      <td>35</td>\n",
       "    </tr>\n",
       "    <tr>\n",
       "      <th>19</th>\n",
       "      <td>20</td>\n",
       "      <td>19</td>\n",
       "    </tr>\n",
       "    <tr>\n",
       "      <th>20</th>\n",
       "      <td>40</td>\n",
       "      <td>46</td>\n",
       "    </tr>\n",
       "    <tr>\n",
       "      <th>21</th>\n",
       "      <td>6</td>\n",
       "      <td>22</td>\n",
       "    </tr>\n",
       "    <tr>\n",
       "      <th>22</th>\n",
       "      <td>34</td>\n",
       "      <td>6</td>\n",
       "    </tr>\n",
       "    <tr>\n",
       "      <th>23</th>\n",
       "      <td>41</td>\n",
       "      <td>20</td>\n",
       "    </tr>\n",
       "    <tr>\n",
       "      <th>24</th>\n",
       "      <td>37</td>\n",
       "      <td>35</td>\n",
       "    </tr>\n",
       "    <tr>\n",
       "      <th>25</th>\n",
       "      <td>10</td>\n",
       "      <td>14</td>\n",
       "    </tr>\n",
       "    <tr>\n",
       "      <th>26</th>\n",
       "      <td>24</td>\n",
       "      <td>15</td>\n",
       "    </tr>\n",
       "    <tr>\n",
       "      <th>27</th>\n",
       "      <td>41</td>\n",
       "      <td>10</td>\n",
       "    </tr>\n",
       "    <tr>\n",
       "      <th>28</th>\n",
       "      <td>23</td>\n",
       "      <td>11</td>\n",
       "    </tr>\n",
       "    <tr>\n",
       "      <th>29</th>\n",
       "      <td>34</td>\n",
       "      <td>9</td>\n",
       "    </tr>\n",
       "    <tr>\n",
       "      <th>30</th>\n",
       "      <td>22</td>\n",
       "      <td>28</td>\n",
       "    </tr>\n",
       "    <tr>\n",
       "      <th>31</th>\n",
       "      <td>39</td>\n",
       "      <td>40</td>\n",
       "    </tr>\n",
       "  </tbody>\n",
       "</table>\n",
       "</div>"
      ],
      "text/plain": [
       "Кількість спалахив за травень  Сонце  Альфа Центавра\n",
       "Дата                                                \n",
       "1                                 43              38\n",
       "2                                 18              15\n",
       "3                                 32              31\n",
       "4                                 47              24\n",
       "5                                 24              26\n",
       "6                                 11              13\n",
       "7                                 46              16\n",
       "8                                 45              27\n",
       "9                                 45               2\n",
       "10                                 6              11\n",
       "11                                42               4\n",
       "12                                 7              11\n",
       "13                                 6              18\n",
       "14                                 9              32\n",
       "15                                22              42\n",
       "16                                 2              31\n",
       "17                                10              24\n",
       "18                                38              35\n",
       "19                                20              19\n",
       "20                                40              46\n",
       "21                                 6              22\n",
       "22                                34               6\n",
       "23                                41              20\n",
       "24                                37              35\n",
       "25                                10              14\n",
       "26                                24              15\n",
       "27                                41              10\n",
       "28                                23              11\n",
       "29                                34               9\n",
       "30                                22              28\n",
       "31                                39              40"
      ]
     },
     "execution_count": 39,
     "metadata": {},
     "output_type": "execute_result"
    }
   ],
   "source": [
    "Star1 =  randint(1, 50,31)\n",
    "Star2 =  randint(1, 50, 31)\n",
    "table = pd.DataFrame({'Сонце':Star1, 'Альфа Центавра':Star2}, index=np.arange(1, len(Star1) + 1))\n",
    "table.index.name = 'Дата'\n",
    "table.columns.name = 'Кількість спалахив за травень'\n",
    "table"
   ]
  },
  {
   "cell_type": "markdown",
   "metadata": {},
   "source": [
    "Побудуємо графік, що відображає розкид даних в групах"
   ]
  },
  {
   "cell_type": "code",
   "execution_count": 40,
   "metadata": {},
   "outputs": [
    {
     "data": {
      "text/plain": [
       "[]"
      ]
     },
     "execution_count": 40,
     "metadata": {},
     "output_type": "execute_result"
    },
    {
     "data": {
      "image/png": "[encoded data removed]",
      "text/plain": [
       "<Figure size 432x288 with 1 Axes>"
      ]
     },
     "metadata": {
      "needs_background": "light"
     },
     "output_type": "display_data"
    }
   ],
   "source": [
    "sns.boxplot(data=table, orient='h',palette='coolwarm').set()"
   ]
  },
  {
   "cell_type": "markdown",
   "metadata": {},
   "source": [
    "Написати функцію для оцінки вімінностей дисперсій між групами за критерієм Лівеня. Функція має повертати значення тесту та результат оцінки рівності дисперсій (significant або not significant)"
   ]
  },
  {
   "cell_type": "code",
   "execution_count": 41,
   "metadata": {},
   "outputs": [],
   "source": [
    "def duspersia(arr):\n",
    "    return np.var(arr)\n",
    "\n",
    "def Liven(group1, group2):\n",
    "    d1 = duspersia(group1)\n",
    "    d2 = duspersia(group2)\n",
    "    if(d1 >= d2):\n",
    "        F=d1/d2\n",
    "    else:\n",
    "        F=d2/d1 \n",
    "    print(\"Отримане значення критерію Лівеня: F = \", F)\n",
    "    \n",
    "    df1=len(group1)-1\n",
    "    df2=len(group2)-1\n",
    "\n",
    "    import xlrd, xlwt\n",
    "    rb = xlrd.open_workbook('D:\\BMD\\laba7\\Таблиця критичних значень для критерію Лівеня.xlsx')\n",
    "    sheet = rb.sheet_by_index(0)\n",
    "    if(df1<=10 and df2<=20):\n",
    "        F_tabl = sheet.row_values(df2 + 1)[df1]\n",
    "    \n",
    "    if(df1==15 and df2<=20):\n",
    "        F_tabl = sheet.row_values(df2 + 1)[11]\n",
    "    if(df1>15 and df2>20):\n",
    "        F_tabl = sheet.row_values(22)[12]    \n",
    "    \n",
    "    print(\"Критичне значення критерію: F_кр = \", F_tabl)\n",
    "    if (F_tabl < F):\n",
    "        result = \"significant\" \n",
    "    else:\n",
    "        result = \"not significant\"  \n",
    "    print(\"Результат оцінки значимості зв'зку: \",result)\n",
    "    return result"
   ]
  },
  {
   "cell_type": "code",
   "execution_count": 42,
   "metadata": {},
   "outputs": [
    {
     "name": "stdout",
     "output_type": "stream",
     "text": [
      "Отримане значення критерію Лівеня: F =  1.58288950623916\n",
      "Критичне значення критерію: F_кр =  1.45\n",
      "Результат оцінки значимості зв'зку:  significant\n"
     ]
    },
    {
     "data": {
      "text/plain": [
       "'significant'"
      ]
     },
     "execution_count": 42,
     "metadata": {},
     "output_type": "execute_result"
    }
   ],
   "source": [
    "Liven(Star1,Star2)"
   ]
  },
  {
   "cell_type": "markdown",
   "metadata": {},
   "source": [
    "Написати функцію для визначення відмінності між групами за критерієм Стьюдента в залежності від рівності/відмінності дисперсій. Функція має повертати значення критерію та значення ступеня свободи та результат оцінки значимості звязку (significant або not significant)"
   ]
  },
  {
   "cell_type": "code",
   "execution_count": 47,
   "metadata": {},
   "outputs": [],
   "source": [
    "def Sum_count(arr):\n",
    "    sum=0\n",
    "    for i in range(len(arr)):\n",
    "        sum += arr[i]\n",
    "    return sum/len(arr)    \n",
    "\n",
    "def Standatne_vid(arr):\n",
    "    return np.std(arr)\n",
    "\n",
    "def Student(result,group1 , group2):\n",
    "    r1 = \"not significant\"\n",
    "    \n",
    "    sum1 = Sum_count(group1)\n",
    "    sum2 = Sum_count(group2)\n",
    "    \n",
    "    L1 = len(group1)\n",
    "    L2 = len(group2)\n",
    "    \n",
    "    q1 = Standatne_vid(group1)\n",
    "    q2 = Standatne_vid(group2)\n",
    "\n",
    "    rq1 = q1**2\n",
    "    rq2 = q2**2\n",
    "    \n",
    "    \n",
    "    if(r1 == result):\n",
    "        t = (abs(sum1 - sum2))/(math.sqrt((rq1/L1)+((rq2)/L2)))\n",
    "    else:\n",
    "        t = (abs(sum1 - sum2))/(math.sqrt(((((L1-1)*rq1) + ((L2-1)*rq2))*((1/L1)+(1/L2)))/(L1 + L2 - 2)))\n",
    "    print(\"--------------------------------------------------------\")     \n",
    "    print(\"Отримане значення критерію Стьюдента: t = \", t)\n",
    "    \n",
    "    df = L1 + L2 - 2\n",
    "    print(\"Ступінь свободи: df = \", df)\n",
    "    \n",
    "    import xlrd, xlwt\n",
    "    \n",
    "    rb = xlrd.open_workbook('D:\\BMD\\laba7\\Таблиця критичних значень для критерію Стьюдента.xlsx')\n",
    "    \n",
    "    sheet = rb.sheet_by_index(0)\n",
    "    \n",
    "    t_tabl = sheet.row_values(df)[1]\n",
    "    print(\"Критичне значення критерію Стюдента tкр = \", t_tabl)\n",
    "    \n",
    "    if(t>t_tabl):\n",
    "        result2 = \"significant\" \n",
    "    else:\n",
    "        result2 = \"not significant\" \n",
    "    print(\"Результат оцінки значимості зв'зку: \", result2)"
   ]
  },
  {
   "cell_type": "code",
   "execution_count": 48,
   "metadata": {},
   "outputs": [
    {
     "name": "stdout",
     "output_type": "stream",
     "text": [
      "Отримане значення критерію Лівеня: F =  1.58288950623916\n",
      "Критичне значення критерію: F_кр =  1.45\n",
      "Результат оцінки значимості зв'зку:  significant\n",
      "--------------------------------------------------------\n",
      "Отримане значення критерію Стьюдента: t =  1.4299866884039303\n",
      "Ступінь свободи: df =  60\n",
      "Критичне значення критерію Стюдента tкр =  2.0\n",
      "Результат оцінки значимості зв'зку:  not significant\n"
     ]
    }
   ],
   "source": [
    "Student(Livena(Star1,Star2),Star1, Star2 )"
   ]
  },
  {
   "cell_type": "code",
   "execution_count": null,
   "metadata": {},
   "outputs": [],
   "source": []
  }
 ],
 "metadata": {
  "kernelspec": {
   "display_name": "Python 3",
   "language": "python",
   "name": "python3"
  },
  "language_info": {
   "codemirror_mode": {
    "name": "ipython",
    "version": 3
   },
   "file_extension": ".py",
   "mimetype": "text/x-python",
   "name": "python",
   "nbconvert_exporter": "python",
   "pygments_lexer": "ipython3",
   "version": "3.7.6"
  }
 },
 "nbformat": 4,
 "nbformat_minor": 2
}
